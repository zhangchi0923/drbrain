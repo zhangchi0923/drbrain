{
 "cells": [
  {
   "cell_type": "code",
   "execution_count": 2,
   "metadata": {
    "collapsed": true
   },
   "outputs": [],
   "source": [
    "import numpy as np\n",
    "import pandas as pd\n",
    "import os\n",
    "import datetime\n",
    "import logging\n",
    "import requests"
   ]
  },
  {
   "cell_type": "code",
   "execution_count": 253,
   "metadata": {
    "collapsed": false
   },
   "outputs": [
    {
     "data": {
      "text/plain": [
       "'traj-1'"
      ]
     },
     "execution_count": 253,
     "metadata": {},
     "output_type": "execute_result"
    }
   ],
   "source": [
    "# tmp, sid = os.path.split(url)\n",
    "# date_time = datetime.datetime.now().strftime('%Y%m%d-%H%M%S')\n",
    "# logger = logging.getLogger()\n",
    "# logger.setLevel(level = logging.INFO)\n",
    "# handler = logging.FileHandler(os.path.join(outputPth,'log_'+date_time+'_'+sid+'.txt') )\n",
    "# handler.setLevel(logging.INFO)\n",
    "#\n",
    "# formatter = logging.Formatter('%(asctime)s - %(name)s - %(levelname)s - %(message)s')\n",
    "# handler.setFormatter(formatter)\n",
    "#\n",
    "# console = logging.StreamHandler()\n",
    "# console.setLevel(logging.INFO)\n",
    "#\n",
    "# logger.addHandler(handler)\n",
    "# logger.addHandler(console)\n",
    "# os.path.split('https://cos.drbrain.net/profile/tj/2022/11/16/8029f010-3434-495b-aa7c-2ad634bce586.txt')\n",
    "\"traj-{}\".format(1)"
   ]
  },
  {
   "cell_type": "code",
   "execution_count": 4,
   "metadata": {
    "collapsed": false
   },
   "outputs": [],
   "source": [
    "\"\"\"\n",
    "convert data(str) to dataframe\n",
    "\"\"\"\n",
    "def text2Df(myStr):\n",
    "    lines=myStr.split('\\n')\n",
    "    head=lines[0].split(',')\n",
    "    arr = [x.split(',') for x in lines[1:] if not not x ]\n",
    "    df = pd.DataFrame(arr,columns = head)\n",
    "    df['timestamp'] = df['timestamp'].astype('uint64', errors='ignore')\n",
    "    df['difficulty'] = df['difficulty'].astype(int, errors='ignore')\n",
    "    df['pos_x'] = df['pos_x'].astype(float, errors='ignore')\n",
    "    df['pos_y'] = df['pos_y'].astype(float, errors='ignore')\n",
    "    df['pos_z' ] = df['pos_z' ].astype(float, errors='ignore')\n",
    "    return df"
   ]
  },
  {
   "cell_type": "code",
   "execution_count": 51,
   "metadata": {
    "collapsed": false
   },
   "outputs": [
    {
     "data": {
      "text/html": [
       "<div>\n",
       "<style scoped>\n",
       "    .dataframe tbody tr th:only-of-type {\n",
       "        vertical-align: middle;\n",
       "    }\n",
       "\n",
       "    .dataframe tbody tr th {\n",
       "        vertical-align: top;\n",
       "    }\n",
       "\n",
       "    .dataframe thead th {\n",
       "        text-align: right;\n",
       "    }\n",
       "</style>\n",
       "<table border=\"1\" class=\"dataframe\">\n",
       "  <thead>\n",
       "    <tr style=\"text-align: right;\">\n",
       "      <th></th>\n",
       "      <th>timestamp</th>\n",
       "      <th>difficulty</th>\n",
       "      <th>pos_x</th>\n",
       "      <th>pos_y</th>\n",
       "      <th>pos_z</th>\n",
       "    </tr>\n",
       "  </thead>\n",
       "  <tbody>\n",
       "    <tr>\n",
       "      <th>count</th>\n",
       "      <td>1.050000e+02</td>\n",
       "      <td>105.000000</td>\n",
       "      <td>105.000000</td>\n",
       "      <td>105.000000</td>\n",
       "      <td>105.000000</td>\n",
       "    </tr>\n",
       "    <tr>\n",
       "      <th>mean</th>\n",
       "      <td>1.669367e+12</td>\n",
       "      <td>5.457143</td>\n",
       "      <td>-17.164524</td>\n",
       "      <td>261.628924</td>\n",
       "      <td>127.978705</td>\n",
       "    </tr>\n",
       "    <tr>\n",
       "      <th>std</th>\n",
       "      <td>5.187358e+04</td>\n",
       "      <td>1.308468</td>\n",
       "      <td>148.359173</td>\n",
       "      <td>135.831677</td>\n",
       "      <td>87.170904</td>\n",
       "    </tr>\n",
       "    <tr>\n",
       "      <th>min</th>\n",
       "      <td>1.669367e+12</td>\n",
       "      <td>3.000000</td>\n",
       "      <td>-228.167000</td>\n",
       "      <td>44.647000</td>\n",
       "      <td>-26.369000</td>\n",
       "    </tr>\n",
       "    <tr>\n",
       "      <th>25%</th>\n",
       "      <td>1.669367e+12</td>\n",
       "      <td>4.000000</td>\n",
       "      <td>-163.460000</td>\n",
       "      <td>124.630000</td>\n",
       "      <td>47.191000</td>\n",
       "    </tr>\n",
       "    <tr>\n",
       "      <th>50%</th>\n",
       "      <td>1.669367e+12</td>\n",
       "      <td>6.000000</td>\n",
       "      <td>-44.109000</td>\n",
       "      <td>266.163000</td>\n",
       "      <td>128.643000</td>\n",
       "    </tr>\n",
       "    <tr>\n",
       "      <th>75%</th>\n",
       "      <td>1.669367e+12</td>\n",
       "      <td>6.000000</td>\n",
       "      <td>117.714000</td>\n",
       "      <td>410.204000</td>\n",
       "      <td>198.509000</td>\n",
       "    </tr>\n",
       "    <tr>\n",
       "      <th>max</th>\n",
       "      <td>1.669367e+12</td>\n",
       "      <td>7.000000</td>\n",
       "      <td>209.475000</td>\n",
       "      <td>459.534000</td>\n",
       "      <td>273.522000</td>\n",
       "    </tr>\n",
       "  </tbody>\n",
       "</table>\n",
       "</div>"
      ],
      "text/plain": [
       "          timestamp  difficulty       pos_x       pos_y       pos_z\n",
       "count  1.050000e+02  105.000000  105.000000  105.000000  105.000000\n",
       "mean   1.669367e+12    5.457143  -17.164524  261.628924  127.978705\n",
       "std    5.187358e+04    1.308468  148.359173  135.831677   87.170904\n",
       "min    1.669367e+12    3.000000 -228.167000   44.647000  -26.369000\n",
       "25%    1.669367e+12    4.000000 -163.460000  124.630000   47.191000\n",
       "50%    1.669367e+12    6.000000  -44.109000  266.163000  128.643000\n",
       "75%    1.669367e+12    6.000000  117.714000  410.204000  198.509000\n",
       "max    1.669367e+12    7.000000  209.475000  459.534000  273.522000"
      ]
     },
     "execution_count": 51,
     "metadata": {},
     "output_type": "execute_result"
    }
   ],
   "source": [
    "url_data = requests.get('https://cos.drbrain.net/profile/tj/2022/11/25/e7616afa-b50b-4625-a6fb-2326d2538dcf.txt', timeout=2.5)\n",
    "txt_head_data = text2Df(url_data.text)\n",
    "txt_head_data.describe()"
   ]
  },
  {
   "cell_type": "code",
   "execution_count": 5,
   "metadata": {
    "collapsed": false
   },
   "outputs": [
    {
     "ename": "NameError",
     "evalue": "name 'txt_head_data' is not defined",
     "output_type": "error",
     "traceback": [
      "\u001b[1;31m---------------------------------------------------------------------------\u001b[0m",
      "\u001b[1;31mNameError\u001b[0m                                 Traceback (most recent call last)",
      "\u001b[1;32m<ipython-input-5-29ee84945e7e>\u001b[0m in \u001b[0;36m<module>\u001b[1;34m\u001b[0m\n\u001b[0;32m      1\u001b[0m \u001b[1;32mimport\u001b[0m \u001b[0mmatplotlib\u001b[0m\u001b[1;33m.\u001b[0m\u001b[0mpyplot\u001b[0m \u001b[1;32mas\u001b[0m \u001b[0mplt\u001b[0m\u001b[1;33m\u001b[0m\u001b[1;33m\u001b[0m\u001b[0m\n\u001b[1;32m----> 2\u001b[1;33m \u001b[0mplt\u001b[0m\u001b[1;33m.\u001b[0m\u001b[0mscatter\u001b[0m\u001b[1;33m(\u001b[0m\u001b[0mtxt_head_data\u001b[0m\u001b[1;33m[\u001b[0m\u001b[1;34m'pos_x'\u001b[0m\u001b[1;33m]\u001b[0m\u001b[1;33m,\u001b[0m \u001b[0mtxt_head_data\u001b[0m\u001b[1;33m[\u001b[0m\u001b[1;34m'pos_y'\u001b[0m\u001b[1;33m]\u001b[0m\u001b[1;33m,\u001b[0m \u001b[0ms\u001b[0m\u001b[1;33m=\u001b[0m\u001b[1;36m1\u001b[0m\u001b[1;33m)\u001b[0m\u001b[1;33m\u001b[0m\u001b[1;33m\u001b[0m\u001b[0m\n\u001b[0m",
      "\u001b[1;31mNameError\u001b[0m: name 'txt_head_data' is not defined"
     ]
    }
   ],
   "source": [
    "import matplotlib.pyplot as plt\n",
    "plt.scatter(txt_head_data['pos_x'], txt_head_data['pos_y'], s=1)"
   ]
  },
  {
   "cell_type": "code",
   "execution_count": 6,
   "metadata": {
    "collapsed": false
   },
   "outputs": [
    {
     "ename": "NameError",
     "evalue": "name 'txt_head_data' is not defined",
     "output_type": "error",
     "traceback": [
      "\u001b[1;31m---------------------------------------------------------------------------\u001b[0m",
      "\u001b[1;31mNameError\u001b[0m                                 Traceback (most recent call last)",
      "\u001b[1;32m<ipython-input-6-713a454f3250>\u001b[0m in \u001b[0;36m<module>\u001b[1;34m\u001b[0m\n\u001b[0;32m     12\u001b[0m \u001b[1;32mfrom\u001b[0m \u001b[0mscipy\u001b[0m\u001b[1;33m.\u001b[0m\u001b[0minterpolate\u001b[0m \u001b[1;32mimport\u001b[0m \u001b[0mmake_interp_spline\u001b[0m\u001b[1;33m,\u001b[0m \u001b[0mBSpline\u001b[0m\u001b[1;33m\u001b[0m\u001b[1;33m\u001b[0m\u001b[0m\n\u001b[0;32m     13\u001b[0m \u001b[1;33m\u001b[0m\u001b[0m\n\u001b[1;32m---> 14\u001b[1;33m \u001b[0mpoints\u001b[0m \u001b[1;33m=\u001b[0m \u001b[0mnp\u001b[0m\u001b[1;33m.\u001b[0m\u001b[0marray\u001b[0m\u001b[1;33m(\u001b[0m\u001b[0mtxt_head_data\u001b[0m\u001b[1;33m[\u001b[0m\u001b[1;33m[\u001b[0m\u001b[1;34m'pos_x'\u001b[0m\u001b[1;33m,\u001b[0m \u001b[1;34m'pos_z'\u001b[0m\u001b[1;33m]\u001b[0m\u001b[1;33m]\u001b[0m\u001b[1;33m)\u001b[0m\u001b[1;33m\u001b[0m\u001b[1;33m\u001b[0m\u001b[0m\n\u001b[0m\u001b[0;32m     15\u001b[0m \u001b[0mhull\u001b[0m \u001b[1;33m=\u001b[0m \u001b[0mConvexHull\u001b[0m\u001b[1;33m(\u001b[0m\u001b[0mpoints\u001b[0m\u001b[1;33m,\u001b[0m \u001b[0mincremental\u001b[0m\u001b[1;33m=\u001b[0m\u001b[1;32mTrue\u001b[0m\u001b[1;33m)\u001b[0m\u001b[1;33m\u001b[0m\u001b[1;33m\u001b[0m\u001b[0m\n\u001b[0;32m     16\u001b[0m \u001b[0mx\u001b[0m\u001b[1;33m,\u001b[0m \u001b[0my\u001b[0m \u001b[1;33m=\u001b[0m \u001b[0mlist\u001b[0m\u001b[1;33m(\u001b[0m\u001b[0mhull\u001b[0m\u001b[1;33m.\u001b[0m\u001b[0msimplices\u001b[0m\u001b[1;33m[\u001b[0m\u001b[1;33m:\u001b[0m\u001b[1;33m,\u001b[0m \u001b[1;36m0\u001b[0m\u001b[1;33m]\u001b[0m\u001b[1;33m)\u001b[0m\u001b[1;33m,\u001b[0m \u001b[0mlist\u001b[0m\u001b[1;33m(\u001b[0m\u001b[0mhull\u001b[0m\u001b[1;33m.\u001b[0m\u001b[0msimplices\u001b[0m\u001b[1;33m[\u001b[0m\u001b[1;33m:\u001b[0m\u001b[1;33m,\u001b[0m \u001b[1;36m1\u001b[0m\u001b[1;33m]\u001b[0m\u001b[1;33m)\u001b[0m\u001b[1;33m\u001b[0m\u001b[1;33m\u001b[0m\u001b[0m\n",
      "\u001b[1;31mNameError\u001b[0m: name 'txt_head_data' is not defined"
     ]
    }
   ],
   "source": [
    "# import scipy.fftpack as fftpack\n",
    "# x = np.array(txt_head_data['pos_x'])\n",
    "# y = np.array(txt_head_data['pos_y'])\n",
    "#\n",
    "# hx = fftpack.hilbert(x)\n",
    "# hxx = (x**2 + hx**2)**0.5\n",
    "#\n",
    "# hy = fftpack.hilbert(y)\n",
    "# hyy = (y**2 + hy**2)**0.5\n",
    "# plt.plot(x, hyy)\n",
    "from scipy.spatial import ConvexHull, convex_hull_plot_2d\n",
    "from scipy.interpolate import make_interp_spline, BSpline\n",
    "\n",
    "points = np.array(txt_head_data[['pos_x', 'pos_z']])\n",
    "hull = ConvexHull(points, incremental=True)\n",
    "x, y = list(hull.simplices[:, 0]), list(hull.simplices[:, 1])\n",
    "from scipy.ndimage.filters import gaussian_filter1d\n",
    "# xnew = gaussian_filter1d(x, sigma=2)\n",
    "# ynew = gaussian_filter1d(y, sigma=2)\n",
    "# plt.plot(x, y)\n",
    "# from scipy.interpolate import interp1d\n",
    "# f1 = interp1d(list(range(len(x))), x, kind='cubic')\n",
    "# f2 = interp1d(list(range(len(y))), y, kind='cubic')\n",
    "# xnew = f1(x)\n",
    "# ynew = f2(y)\n",
    "# plt.scatter(txt_head_data['pos_x'], txt_head_data['pos_y'], s=0.2)\n",
    "plt.plot(txt_head_data['pos_x'], txt_head_data['pos_z'], lw=0.1)\n",
    "# plt.plot(points[hull.vertices,0], points[hull.vertices,1], 'r--', lw=2)\n",
    "# plt.plot(points[hull.vertices[0],0], points[hull.vertices[0],1], 'ro')\n",
    "# for simplex in hull.simplices:\n",
    "#     plt.plot(points[simplex, 0], (points[simplex, 1]), 'grey', linewidth=1, markersize=5)\n",
    "plt.fill(points[hull.vertices, 0], points[hull.vertices, 1], color='grey', alpha=0.5)"
   ]
  },
  {
   "cell_type": "markdown",
   "metadata": {},
   "source": [
    "## 站姿"
   ]
  },
  {
   "cell_type": "code",
   "execution_count": 52,
   "metadata": {},
   "outputs": [
    {
     "data": {
      "text/html": [
       "<div>\n",
       "<style scoped>\n",
       "    .dataframe tbody tr th:only-of-type {\n",
       "        vertical-align: middle;\n",
       "    }\n",
       "\n",
       "    .dataframe tbody tr th {\n",
       "        vertical-align: top;\n",
       "    }\n",
       "\n",
       "    .dataframe thead th {\n",
       "        text-align: right;\n",
       "    }\n",
       "</style>\n",
       "<table border=\"1\" class=\"dataframe\">\n",
       "  <thead>\n",
       "    <tr style=\"text-align: right;\">\n",
       "      <th></th>\n",
       "      <th>timestamp</th>\n",
       "      <th>difficulty</th>\n",
       "      <th>pos_x</th>\n",
       "      <th>pos_y</th>\n",
       "      <th>pos_z</th>\n",
       "    </tr>\n",
       "  </thead>\n",
       "  <tbody>\n",
       "    <tr>\n",
       "      <th>count</th>\n",
       "      <td>1.827000e+03</td>\n",
       "      <td>1827.000000</td>\n",
       "      <td>1827.000000</td>\n",
       "      <td>1827.00000</td>\n",
       "      <td>1827.000000</td>\n",
       "    </tr>\n",
       "    <tr>\n",
       "      <th>mean</th>\n",
       "      <td>1.669367e+12</td>\n",
       "      <td>4.178435</td>\n",
       "      <td>10.002756</td>\n",
       "      <td>18.82507</td>\n",
       "      <td>-3.562460</td>\n",
       "    </tr>\n",
       "    <tr>\n",
       "      <th>std</th>\n",
       "      <td>5.275505e+04</td>\n",
       "      <td>0.689393</td>\n",
       "      <td>17.962335</td>\n",
       "      <td>13.87617</td>\n",
       "      <td>6.193469</td>\n",
       "    </tr>\n",
       "    <tr>\n",
       "      <th>min</th>\n",
       "      <td>1.669367e+12</td>\n",
       "      <td>3.000000</td>\n",
       "      <td>-33.737000</td>\n",
       "      <td>-21.30200</td>\n",
       "      <td>-49.177000</td>\n",
       "    </tr>\n",
       "    <tr>\n",
       "      <th>25%</th>\n",
       "      <td>1.669367e+12</td>\n",
       "      <td>4.000000</td>\n",
       "      <td>-1.114500</td>\n",
       "      <td>9.47050</td>\n",
       "      <td>-4.975000</td>\n",
       "    </tr>\n",
       "    <tr>\n",
       "      <th>50%</th>\n",
       "      <td>1.669367e+12</td>\n",
       "      <td>4.000000</td>\n",
       "      <td>8.911000</td>\n",
       "      <td>18.61800</td>\n",
       "      <td>-1.970000</td>\n",
       "    </tr>\n",
       "    <tr>\n",
       "      <th>75%</th>\n",
       "      <td>1.669367e+12</td>\n",
       "      <td>5.000000</td>\n",
       "      <td>21.868000</td>\n",
       "      <td>27.77750</td>\n",
       "      <td>0.404000</td>\n",
       "    </tr>\n",
       "    <tr>\n",
       "      <th>max</th>\n",
       "      <td>1.669367e+12</td>\n",
       "      <td>5.000000</td>\n",
       "      <td>64.790000</td>\n",
       "      <td>62.26100</td>\n",
       "      <td>5.950000</td>\n",
       "    </tr>\n",
       "  </tbody>\n",
       "</table>\n",
       "</div>"
      ],
      "text/plain": [
       "          timestamp   difficulty        pos_x       pos_y        pos_z\n",
       "count  1.827000e+03  1827.000000  1827.000000  1827.00000  1827.000000\n",
       "mean   1.669367e+12     4.178435    10.002756    18.82507    -3.562460\n",
       "std    5.275505e+04     0.689393    17.962335    13.87617     6.193469\n",
       "min    1.669367e+12     3.000000   -33.737000   -21.30200   -49.177000\n",
       "25%    1.669367e+12     4.000000    -1.114500     9.47050    -4.975000\n",
       "50%    1.669367e+12     4.000000     8.911000    18.61800    -1.970000\n",
       "75%    1.669367e+12     5.000000    21.868000    27.77750     0.404000\n",
       "max    1.669367e+12     5.000000    64.790000    62.26100     5.950000"
      ]
     },
     "execution_count": 52,
     "metadata": {},
     "output_type": "execute_result"
    }
   ],
   "source": [
    "url_data = requests.get('https://cos.drbrain.net/profile/tj/2022/11/25/888d6ccc-b137-414c-9a8c-a56f751cfc5d.txt', timeout=5)\n",
    "txt_head_data = text2Df(url_data.text)\n",
    "txt_head_data.describe()"
   ]
  },
  {
   "cell_type": "code",
   "execution_count": 54,
   "metadata": {
    "collapsed": false
   },
   "outputs": [
    {
     "data": {
      "text/plain": [
       "[<matplotlib.patches.Polygon at 0x210d8793340>]"
      ]
     },
     "execution_count": 54,
     "metadata": {},
     "output_type": "execute_result"
    },
    {
     "data": {
      "image/png": "[encoded data removed]",
      "text/plain": [
       "<Figure size 432x288 with 1 Axes>"
      ]
     },
     "metadata": {
      "needs_background": "light"
     },
     "output_type": "display_data"
    }
   ],
   "source": [
    "\n",
    "points = np.array(txt_head_data[['pos_x', 'pos_z']])\n",
    "hull = ConvexHull(points, incremental=True)\n",
    "\n",
    "im_xz = plt.imread('src_fig\\stand-1@2x.png')\n",
    "\n",
    "plt.imshow(im_xz, extent=[-150, 150, -270, 30])\n",
    "# plt.scatter(txt_head_data['pos_x'], txt_head_data['pos_z'], s=0.5, alpha=0.5)\n",
    "plt.plot(txt_head_data['pos_x'], txt_head_data['pos_z'], markersize=100, lw=0.1, alpha=0.5)\n",
    "new_vertices = np.concatenate((hull.vertices, [hull.vertices[0]]))\n",
    "plt.plot(points[new_vertices,0], points[new_vertices,1], 'g', lw=0.5, alpha=0.7)\n",
    "\n",
    "plt.fill(points[hull.vertices, 0], points[hull.vertices, 1], color='grey', alpha=0.2)\n",
    "\n",
    "# plt.savefig('../trial1.png', dpi=400)\n",
    "# plt.close()"
   ]
  },
  {
   "cell_type": "code",
   "execution_count": 60,
   "metadata": {
    "collapsed": false
   },
   "outputs": [
    {
     "data": {
      "text/plain": [
       "[<matplotlib.patches.Polygon at 0x210d79ec730>]"
      ]
     },
     "execution_count": 60,
     "metadata": {},
     "output_type": "execute_result"
    },
    {
     "data": {
      "image/png": "[encoded data removed]",
      "text/plain": [
       "<Figure size 432x288 with 1 Axes>"
      ]
     },
     "metadata": {
      "needs_background": "light"
     },
     "output_type": "display_data"
    }
   ],
   "source": [
    "points = np.array(txt_head_data[['pos_y', 'pos_z']])\n",
    "hull_xy = ConvexHull(points, incremental=True)\n",
    "\n",
    "im_xy = plt.imread('src_fig/stand-2@2x.png')\n",
    "plt.imshow(im_xy, extent=[-140, 160, -270, 30])\n",
    "plt.plot(txt_head_data['pos_y'], txt_head_data['pos_z'], markersize=100, lw=0.1, alpha=0.5)\n",
    "new_vertices = np.concatenate((hull_xy.vertices, [hull_xy.vertices[0]]))\n",
    "plt.plot(points[new_vertices,0], points[new_vertices,1], 'g', lw=0.5, alpha=0.7)\n",
    "plt.fill(points[hull_xy.vertices, 0], points[hull_xy.vertices, 1], color='grey', alpha=0.2)\n",
    "# plt.savefig('../trial1.png', dpi=400)"
   ]
  },
  {
   "cell_type": "code",
   "execution_count": 62,
   "metadata": {
    "collapsed": false
   },
   "outputs": [
    {
     "data": {
      "text/plain": [
       "[<matplotlib.patches.Polygon at 0x210d7aa5490>]"
      ]
     },
     "execution_count": 62,
     "metadata": {},
     "output_type": "execute_result"
    },
    {
     "data": {
      "image/png": "[encoded data removed]",
      "text/plain": [
       "<Figure size 432x288 with 1 Axes>"
      ]
     },
     "metadata": {
      "needs_background": "light"
     },
     "output_type": "display_data"
    }
   ],
   "source": [
    "points = np.array(txt_head_data[['pos_y', 'pos_x']])\n",
    "hull_yz = ConvexHull(points, incremental=True)\n",
    "\n",
    "im_yz = plt.imread('src_fig/stand-3@2x.png')\n",
    "plt.imshow(im_yz, extent=[-150, 150, -150, 150])\n",
    "plt.plot(txt_head_data['pos_y'], txt_head_data['pos_x'], markersize=100, lw=0.1, alpha=0.5)\n",
    "new_vertices = np.concatenate((hull_yz.vertices, [hull_yz.vertices[0]]))\n",
    "plt.plot(points[new_vertices,0], points[new_vertices,1], 'g', lw=0.5, alpha=0.7)\n",
    "plt.fill(points[hull_yz.vertices, 0], points[hull_yz.vertices, 1], color='grey', alpha=0.2)\n",
    "# plt.savefig('../trial1.png', dpi=400)"
   ]
  },
  {
   "cell_type": "markdown",
   "metadata": {},
   "source": [
    "## 坐姿"
   ]
  },
  {
   "cell_type": "code",
   "execution_count": 63,
   "metadata": {
    "collapsed": false
   },
   "outputs": [
    {
     "data": {
      "text/html": [
       "<div>\n",
       "<style scoped>\n",
       "    .dataframe tbody tr th:only-of-type {\n",
       "        vertical-align: middle;\n",
       "    }\n",
       "\n",
       "    .dataframe tbody tr th {\n",
       "        vertical-align: top;\n",
       "    }\n",
       "\n",
       "    .dataframe thead th {\n",
       "        text-align: right;\n",
       "    }\n",
       "</style>\n",
       "<table border=\"1\" class=\"dataframe\">\n",
       "  <thead>\n",
       "    <tr style=\"text-align: right;\">\n",
       "      <th></th>\n",
       "      <th>timestamp</th>\n",
       "      <th>difficulty</th>\n",
       "      <th>pos_x</th>\n",
       "      <th>pos_y</th>\n",
       "      <th>pos_z</th>\n",
       "    </tr>\n",
       "  </thead>\n",
       "  <tbody>\n",
       "    <tr>\n",
       "      <th>count</th>\n",
       "      <td>1.834000e+03</td>\n",
       "      <td>1834.000000</td>\n",
       "      <td>1834.000000</td>\n",
       "      <td>1834.000000</td>\n",
       "      <td>1834.000000</td>\n",
       "    </tr>\n",
       "    <tr>\n",
       "      <th>mean</th>\n",
       "      <td>1.669367e+12</td>\n",
       "      <td>5.546347</td>\n",
       "      <td>1.565791</td>\n",
       "      <td>-4.309185</td>\n",
       "      <td>-1.860654</td>\n",
       "    </tr>\n",
       "    <tr>\n",
       "      <th>std</th>\n",
       "      <td>5.295720e+04</td>\n",
       "      <td>1.725670</td>\n",
       "      <td>7.386505</td>\n",
       "      <td>13.687185</td>\n",
       "      <td>3.396457</td>\n",
       "    </tr>\n",
       "    <tr>\n",
       "      <th>min</th>\n",
       "      <td>1.669367e+12</td>\n",
       "      <td>3.000000</td>\n",
       "      <td>-23.358000</td>\n",
       "      <td>-41.668000</td>\n",
       "      <td>-14.506000</td>\n",
       "    </tr>\n",
       "    <tr>\n",
       "      <th>25%</th>\n",
       "      <td>1.669367e+12</td>\n",
       "      <td>4.000000</td>\n",
       "      <td>-2.022750</td>\n",
       "      <td>-12.652000</td>\n",
       "      <td>-3.573500</td>\n",
       "    </tr>\n",
       "    <tr>\n",
       "      <th>50%</th>\n",
       "      <td>1.669367e+12</td>\n",
       "      <td>6.000000</td>\n",
       "      <td>1.732000</td>\n",
       "      <td>-4.471000</td>\n",
       "      <td>-1.658500</td>\n",
       "    </tr>\n",
       "    <tr>\n",
       "      <th>75%</th>\n",
       "      <td>1.669367e+12</td>\n",
       "      <td>7.000000</td>\n",
       "      <td>4.716000</td>\n",
       "      <td>4.443250</td>\n",
       "      <td>-0.082500</td>\n",
       "    </tr>\n",
       "    <tr>\n",
       "      <th>max</th>\n",
       "      <td>1.669367e+12</td>\n",
       "      <td>8.000000</td>\n",
       "      <td>26.527000</td>\n",
       "      <td>34.829000</td>\n",
       "      <td>11.346000</td>\n",
       "    </tr>\n",
       "  </tbody>\n",
       "</table>\n",
       "</div>"
      ],
      "text/plain": [
       "          timestamp   difficulty        pos_x        pos_y        pos_z\n",
       "count  1.834000e+03  1834.000000  1834.000000  1834.000000  1834.000000\n",
       "mean   1.669367e+12     5.546347     1.565791    -4.309185    -1.860654\n",
       "std    5.295720e+04     1.725670     7.386505    13.687185     3.396457\n",
       "min    1.669367e+12     3.000000   -23.358000   -41.668000   -14.506000\n",
       "25%    1.669367e+12     4.000000    -2.022750   -12.652000    -3.573500\n",
       "50%    1.669367e+12     6.000000     1.732000    -4.471000    -1.658500\n",
       "75%    1.669367e+12     7.000000     4.716000     4.443250    -0.082500\n",
       "max    1.669367e+12     8.000000    26.527000    34.829000    11.346000"
      ]
     },
     "execution_count": 63,
     "metadata": {},
     "output_type": "execute_result"
    }
   ],
   "source": [
    "url_data = requests.get('https://cos.drbrain.net/profile/tj/2022/11/25/c5e6de68-5b23-4cfe-a6ec-cb66cb2e98c5.txt', timeout=2.5)\n",
    "txt_head_data = text2Df(url_data.text)\n",
    "txt_head_data.describe()"
   ]
  },
  {
   "cell_type": "code",
   "execution_count": 70,
   "metadata": {
    "collapsed": false
   },
   "outputs": [
    {
     "data": {
      "text/plain": [
       "[<matplotlib.patches.Polygon at 0x210d7d4cdf0>]"
      ]
     },
     "execution_count": 70,
     "metadata": {},
     "output_type": "execute_result"
    },
    {
     "data": {
      "image/png": "[encoded data removed]",
      "text/plain": [
       "<Figure size 432x288 with 1 Axes>"
      ]
     },
     "metadata": {
      "needs_background": "light"
     },
     "output_type": "display_data"
    }
   ],
   "source": [
    "points = np.array(txt_head_data[['pos_x', 'pos_z']])\n",
    "hull = ConvexHull(points, incremental=True)\n",
    "\n",
    "im_xz = plt.imread('src_fig\\sit-1@2x.png')\n",
    "plt.imshow(im_xz, extent=[-75, 75, -125, 25])\n",
    "# plt.scatter(txt_head_data['pos_x'], txt_head_data['pos_z'], s=0.5, alpha=0.5)\n",
    "plt.plot(txt_head_data['pos_x'], txt_head_data['pos_z'], markersize=100, lw=0.1, alpha=0.5)\n",
    "new_vertices = np.concatenate((hull.vertices, [hull.vertices[0]]))\n",
    "plt.plot(points[new_vertices,0], points[new_vertices,1], 'g', lw=0.5, alpha=0.7)\n",
    "\n",
    "plt.fill(points[hull.vertices, 0], points[hull.vertices, 1], color='grey', alpha=0.2)\n",
    "# plt.savefig('../trial1.png', dpi=400)\n",
    "# plt.close()"
   ]
  },
  {
   "cell_type": "code",
   "execution_count": 82,
   "metadata": {
    "collapsed": false
   },
   "outputs": [
    {
     "data": {
      "text/plain": [
       "[<matplotlib.patches.Polygon at 0x210dc4d3d90>]"
      ]
     },
     "execution_count": 82,
     "metadata": {},
     "output_type": "execute_result"
    },
    {
     "data": {
      "image/png": "[encoded data removed]",
      "text/plain": [
       "<Figure size 432x288 with 1 Axes>"
      ]
     },
     "metadata": {
      "needs_background": "light"
     },
     "output_type": "display_data"
    }
   ],
   "source": [
    "points = np.array(txt_head_data[['pos_y', 'pos_z']])\n",
    "hull_xy = ConvexHull(points, incremental=True)\n",
    "\n",
    "im_xy = plt.imread('src_fig/sit-2@2x.png')\n",
    "plt.imshow(im_xy, extent=[-100, 100, -165, 35])\n",
    "plt.plot(txt_head_data['pos_y'], txt_head_data['pos_z'], markersize=100, lw=0.1, alpha=0.5)\n",
    "new_vertices = np.concatenate((hull_xy.vertices, [hull_xy.vertices[0]]))\n",
    "plt.plot(points[new_vertices,0], points[new_vertices,1], 'g', lw=0.5, alpha=0.7)\n",
    "plt.fill(points[hull_xy.vertices, 0], points[hull_xy.vertices, 1], color='grey', alpha=0.2)\n",
    "# plt.savefig('../trial1.png', dpi=400)"
   ]
  },
  {
   "cell_type": "code",
   "execution_count": 79,
   "metadata": {},
   "outputs": [
    {
     "data": {
      "text/plain": [
       "[<matplotlib.patches.Polygon at 0x210dc3a9670>]"
      ]
     },
     "execution_count": 79,
     "metadata": {},
     "output_type": "execute_result"
    },
    {
     "data": {
      "image/png": "[encoded data removed]",
      "text/plain": [
       "<Figure size 432x288 with 1 Axes>"
      ]
     },
     "metadata": {
      "needs_background": "light"
     },
     "output_type": "display_data"
    }
   ],
   "source": [
    "points = np.array(txt_head_data[['pos_y', 'pos_x']])\n",
    "hull_yz = ConvexHull(points, incremental=True)\n",
    "\n",
    "im_yz = plt.imread('src_fig/sit-3@2x.png')\n",
    "plt.imshow(im_yz, extent=[-100, 100, -100, 100])\n",
    "plt.plot(txt_head_data['pos_y'], txt_head_data['pos_x'], markersize=100, lw=0.1, alpha=0.5)\n",
    "new_vertices = np.concatenate((hull_yz.vertices, [hull_yz.vertices[0]]))\n",
    "plt.plot(points[new_vertices,0], points[new_vertices,1], 'g', lw=0.5, alpha=0.7)\n",
    "plt.fill(points[hull_yz.vertices, 0], points[hull_yz.vertices, 1], color='grey', alpha=0.2)\n",
    "# plt.savefig('../trial1.png', dpi=400)"
   ]
  },
  {
   "cell_type": "markdown",
   "metadata": {},
   "source": [
    "## 头部"
   ]
  },
  {
   "cell_type": "code",
   "execution_count": 7,
   "metadata": {},
   "outputs": [
    {
     "data": {
      "text/html": [
       "<div>\n",
       "<style scoped>\n",
       "    .dataframe tbody tr th:only-of-type {\n",
       "        vertical-align: middle;\n",
       "    }\n",
       "\n",
       "    .dataframe tbody tr th {\n",
       "        vertical-align: top;\n",
       "    }\n",
       "\n",
       "    .dataframe thead th {\n",
       "        text-align: right;\n",
       "    }\n",
       "</style>\n",
       "<table border=\"1\" class=\"dataframe\">\n",
       "  <thead>\n",
       "    <tr style=\"text-align: right;\">\n",
       "      <th></th>\n",
       "      <th>timestamp</th>\n",
       "      <th>difficulty</th>\n",
       "      <th>pos_x</th>\n",
       "      <th>pos_y</th>\n",
       "      <th>pos_z</th>\n",
       "    </tr>\n",
       "  </thead>\n",
       "  <tbody>\n",
       "    <tr>\n",
       "      <th>count</th>\n",
       "      <td>1.840000e+03</td>\n",
       "      <td>1840.000000</td>\n",
       "      <td>1840.000000</td>\n",
       "      <td>1840.000000</td>\n",
       "      <td>1840.000000</td>\n",
       "    </tr>\n",
       "    <tr>\n",
       "      <th>mean</th>\n",
       "      <td>1.669367e+12</td>\n",
       "      <td>5.206522</td>\n",
       "      <td>-1.978792</td>\n",
       "      <td>-5.430796</td>\n",
       "      <td>-4.963812</td>\n",
       "    </tr>\n",
       "    <tr>\n",
       "      <th>std</th>\n",
       "      <td>5.313075e+04</td>\n",
       "      <td>1.356017</td>\n",
       "      <td>5.864545</td>\n",
       "      <td>8.271955</td>\n",
       "      <td>3.245784</td>\n",
       "    </tr>\n",
       "    <tr>\n",
       "      <th>min</th>\n",
       "      <td>1.669367e+12</td>\n",
       "      <td>3.000000</td>\n",
       "      <td>-19.286000</td>\n",
       "      <td>-27.149000</td>\n",
       "      <td>-13.011000</td>\n",
       "    </tr>\n",
       "    <tr>\n",
       "      <th>25%</th>\n",
       "      <td>1.669367e+12</td>\n",
       "      <td>4.000000</td>\n",
       "      <td>-5.147500</td>\n",
       "      <td>-10.742250</td>\n",
       "      <td>-6.977000</td>\n",
       "    </tr>\n",
       "    <tr>\n",
       "      <th>50%</th>\n",
       "      <td>1.669367e+12</td>\n",
       "      <td>6.000000</td>\n",
       "      <td>-2.057500</td>\n",
       "      <td>-5.733500</td>\n",
       "      <td>-5.523000</td>\n",
       "    </tr>\n",
       "    <tr>\n",
       "      <th>75%</th>\n",
       "      <td>1.669367e+12</td>\n",
       "      <td>6.000000</td>\n",
       "      <td>0.548500</td>\n",
       "      <td>-0.935750</td>\n",
       "      <td>-2.890250</td>\n",
       "    </tr>\n",
       "    <tr>\n",
       "      <th>max</th>\n",
       "      <td>1.669367e+12</td>\n",
       "      <td>7.000000</td>\n",
       "      <td>19.356000</td>\n",
       "      <td>26.971000</td>\n",
       "      <td>9.636000</td>\n",
       "    </tr>\n",
       "  </tbody>\n",
       "</table>\n",
       "</div>"
      ],
      "text/plain": [
       "          timestamp   difficulty        pos_x        pos_y        pos_z\n",
       "count  1.840000e+03  1840.000000  1840.000000  1840.000000  1840.000000\n",
       "mean   1.669367e+12     5.206522    -1.978792    -5.430796    -4.963812\n",
       "std    5.313075e+04     1.356017     5.864545     8.271955     3.245784\n",
       "min    1.669367e+12     3.000000   -19.286000   -27.149000   -13.011000\n",
       "25%    1.669367e+12     4.000000    -5.147500   -10.742250    -6.977000\n",
       "50%    1.669367e+12     6.000000    -2.057500    -5.733500    -5.523000\n",
       "75%    1.669367e+12     6.000000     0.548500    -0.935750    -2.890250\n",
       "max    1.669367e+12     7.000000    19.356000    26.971000     9.636000"
      ]
     },
     "execution_count": 7,
     "metadata": {},
     "output_type": "execute_result"
    }
   ],
   "source": [
    "url_data = requests.get('https://cos.drbrain.net/profile/tj/2022/11/25/2ebfd8a9-4638-41b1-97d2-59fb498ae57c.txt', timeout=2.5)\n",
    "txt_head_data = text2Df(url_data.text)\n",
    "txt_head_data.describe()"
   ]
  },
  {
   "cell_type": "code",
   "execution_count": 99,
   "metadata": {},
   "outputs": [
    {
     "data": {
      "text/plain": [
       "[<matplotlib.patches.Polygon at 0x210d7e7fc40>]"
      ]
     },
     "execution_count": 99,
     "metadata": {},
     "output_type": "execute_result"
    },
    {
     "data": {
      "image/png": "[encoded data removed]",
      "text/plain": [
       "<Figure size 432x288 with 1 Axes>"
      ]
     },
     "metadata": {
      "needs_background": "light"
     },
     "output_type": "display_data"
    }
   ],
   "source": [
    "points = np.array(txt_head_data[['pos_x', 'pos_z']])\n",
    "hull = ConvexHull(points, incremental=True)\n",
    "im_xz = plt.imread('src_fig\\head-1@2x.png')\n",
    "plt.imshow(im_xz, extent=[-40, 40, -68, 12])\n",
    "# plt.scatter(txt_head_data['pos_x'], txt_head_data['pos_z'], s=0.5, alpha=0.5)\n",
    "plt.plot(txt_head_data['pos_x'], txt_head_data['pos_z'], markersize=100, lw=0.1, alpha=0.5)\n",
    "new_vertices = np.concatenate((hull.vertices, [hull.vertices[0]]))\n",
    "plt.plot(points[new_vertices,0], points[new_vertices,1], 'g', lw=0.5, alpha=0.7)\n",
    "\n",
    "plt.fill(points[hull.vertices, 0], points[hull.vertices, 1], color='grey', alpha=0.2)\n",
    "# plt.savefig('../trial1.png', dpi=400)\n",
    "# plt.close()"
   ]
  },
  {
   "cell_type": "code",
   "execution_count": 14,
   "metadata": {},
   "outputs": [
    {
     "data": {
      "text/plain": [
       "[<matplotlib.patches.Polygon at 0x1f2800795b0>]"
      ]
     },
     "execution_count": 14,
     "metadata": {},
     "output_type": "execute_result"
    },
    {
     "data": {
      "image/png": "[encoded data removed]",
      "text/plain": [
       "<Figure size 432x288 with 1 Axes>"
      ]
     },
     "metadata": {
      "needs_background": "light"
     },
     "output_type": "display_data"
    }
   ],
   "source": [
    "points = np.array(txt_head_data[['pos_y', 'pos_z']])\n",
    "hull_xy = ConvexHull(points, incremental=True)\n",
    "\n",
    "im_xy = plt.imread('src_fig/head-2@2x.png')\n",
    "plt.imshow(im_xy, extent=[-40, 40, -65, 15])\n",
    "plt.plot(txt_head_data['pos_y'], txt_head_data['pos_z'], color='tomato', markersize=100, lw=0.2, alpha=1)\n",
    "new_vertices = np.concatenate((hull_xy.vertices, [hull_xy.vertices[0]]))\n",
    "plt.plot(points[new_vertices,0], points[new_vertices,1], 'g', lw=0.5, alpha=0.7)\n",
    "plt.fill(points[hull_xy.vertices, 0], points[hull_xy.vertices, 1], color='grey', alpha=0.2)\n",
    "# plt.savefig('../trial1.png', dpi=400)"
   ]
  },
  {
   "cell_type": "code",
   "execution_count": 11,
   "metadata": {},
   "outputs": [
    {
     "data": {
      "text/plain": [
       "[<matplotlib.patches.Polygon at 0x1f2f26a9fa0>]"
      ]
     },
     "execution_count": 11,
     "metadata": {},
     "output_type": "execute_result"
    },
    {
     "data": {
      "image/png": "[encoded data removed]",
      "text/plain": [
       "<Figure size 432x288 with 1 Axes>"
      ]
     },
     "metadata": {
      "needs_background": "light"
     },
     "output_type": "display_data"
    }
   ],
   "source": [
    "points = np.array(txt_head_data[['pos_y', 'pos_x']])\n",
    "hull_yz = ConvexHull(points, incremental=True)\n",
    "\n",
    "im_yz = plt.imread('src_fig/head-3@2x.png')\n",
    "plt.imshow(im_yz, extent=[-50, 50, -55, 45])\n",
    "plt.plot(txt_head_data['pos_y'], txt_head_data['pos_x'], color='tomato', markersize=100, lw=0.1, alpha=1)\n",
    "new_vertices = np.concatenate((hull_yz.vertices, [hull_yz.vertices[0]]))\n",
    "plt.plot(points[new_vertices,0], points[new_vertices,1], 'b', lw=0.5, alpha=0.5)\n",
    "plt.fill(points[hull_yz.vertices, 0], points[hull_yz.vertices, 1], color='grey', alpha=0.2)\n",
    "# plt.savefig('../trial1.png', dpi=400)"
   ]
  },
  {
   "cell_type": "code",
   "execution_count": 122,
   "metadata": {},
   "outputs": [],
   "source": [
    "pos = np.array(txt_head_data[['timestamp', 'pos_x', 'pos_y', 'pos_z']])\n",
    "vel = np.diff(pos, axis=0)\n",
    "def div_by_time(a):\n",
    "    return np.array([a[1]/a[0], a[2]/a[0], a[3]/a[0]])*10\n",
    "def calc_norm(vec):\n",
    "    return \n",
    "from numpy import linalg as LA\n",
    "vel_norm = LA.norm(np.apply_along_axis(div_by_time, 1, vel), ord=2, axis=1)\n",
    "import json\n",
    "with open('vel.json', 'w') as f:\n",
    "    json.dump(list(vel_norm), f)"
   ]
  },
  {
   "cell_type": "code",
   "execution_count": 127,
   "metadata": {},
   "outputs": [
    {
     "data": {
      "text/plain": [
       "-19.286"
      ]
     },
     "execution_count": 127,
     "metadata": {},
     "output_type": "execute_result"
    }
   ],
   "source": [
    "des = txt_head_data.describe()\n",
    "des.loc['min', 'pos_x']"
   ]
  },
  {
   "cell_type": "code",
   "execution_count": 181,
   "metadata": {},
   "outputs": [
    {
     "data": {
      "text/html": [
       "<div>\n",
       "<style scoped>\n",
       "    .dataframe tbody tr th:only-of-type {\n",
       "        vertical-align: middle;\n",
       "    }\n",
       "\n",
       "    .dataframe tbody tr th {\n",
       "        vertical-align: top;\n",
       "    }\n",
       "\n",
       "    .dataframe thead th {\n",
       "        text-align: right;\n",
       "    }\n",
       "</style>\n",
       "<table border=\"1\" class=\"dataframe\">\n",
       "  <thead>\n",
       "    <tr style=\"text-align: right;\">\n",
       "      <th></th>\n",
       "      <th>timestamp</th>\n",
       "      <th>difficulty</th>\n",
       "      <th>ballIndex</th>\n",
       "      <th>status</th>\n",
       "      <th>pos_x</th>\n",
       "      <th>pos_y</th>\n",
       "      <th>pos_z</th>\n",
       "    </tr>\n",
       "  </thead>\n",
       "  <tbody>\n",
       "    <tr>\n",
       "      <th>count</th>\n",
       "      <td>1.110000e+02</td>\n",
       "      <td>111.000000</td>\n",
       "      <td>111.000000</td>\n",
       "      <td>111.000000</td>\n",
       "      <td>111.000000</td>\n",
       "      <td>111.000000</td>\n",
       "      <td>111.000000</td>\n",
       "    </tr>\n",
       "    <tr>\n",
       "      <th>mean</th>\n",
       "      <td>1.669775e+12</td>\n",
       "      <td>5.945946</td>\n",
       "      <td>56.000000</td>\n",
       "      <td>0.117117</td>\n",
       "      <td>-3.660225</td>\n",
       "      <td>11.068378</td>\n",
       "      <td>12.856928</td>\n",
       "    </tr>\n",
       "    <tr>\n",
       "      <th>std</th>\n",
       "      <td>5.177813e+04</td>\n",
       "      <td>1.688667</td>\n",
       "      <td>32.186954</td>\n",
       "      <td>0.323018</td>\n",
       "      <td>147.120786</td>\n",
       "      <td>82.927186</td>\n",
       "      <td>136.157272</td>\n",
       "    </tr>\n",
       "    <tr>\n",
       "      <th>min</th>\n",
       "      <td>1.669775e+12</td>\n",
       "      <td>3.000000</td>\n",
       "      <td>1.000000</td>\n",
       "      <td>0.000000</td>\n",
       "      <td>-199.996000</td>\n",
       "      <td>-147.819000</td>\n",
       "      <td>-199.990000</td>\n",
       "    </tr>\n",
       "    <tr>\n",
       "      <th>25%</th>\n",
       "      <td>1.669775e+12</td>\n",
       "      <td>5.000000</td>\n",
       "      <td>28.500000</td>\n",
       "      <td>0.000000</td>\n",
       "      <td>-163.049000</td>\n",
       "      <td>-57.417500</td>\n",
       "      <td>-104.652500</td>\n",
       "    </tr>\n",
       "    <tr>\n",
       "      <th>50%</th>\n",
       "      <td>1.669775e+12</td>\n",
       "      <td>6.000000</td>\n",
       "      <td>56.000000</td>\n",
       "      <td>0.000000</td>\n",
       "      <td>1.984000</td>\n",
       "      <td>0.437000</td>\n",
       "      <td>9.263000</td>\n",
       "    </tr>\n",
       "    <tr>\n",
       "      <th>75%</th>\n",
       "      <td>1.669775e+12</td>\n",
       "      <td>7.000000</td>\n",
       "      <td>83.500000</td>\n",
       "      <td>0.000000</td>\n",
       "      <td>157.552000</td>\n",
       "      <td>85.208000</td>\n",
       "      <td>142.308500</td>\n",
       "    </tr>\n",
       "    <tr>\n",
       "      <th>max</th>\n",
       "      <td>1.669775e+12</td>\n",
       "      <td>8.000000</td>\n",
       "      <td>111.000000</td>\n",
       "      <td>1.000000</td>\n",
       "      <td>200.000000</td>\n",
       "      <td>149.370000</td>\n",
       "      <td>199.822000</td>\n",
       "    </tr>\n",
       "  </tbody>\n",
       "</table>\n",
       "</div>"
      ],
      "text/plain": [
       "          timestamp  difficulty   ballIndex      status       pos_x  \\\n",
       "count  1.110000e+02  111.000000  111.000000  111.000000  111.000000   \n",
       "mean   1.669775e+12    5.945946   56.000000    0.117117   -3.660225   \n",
       "std    5.177813e+04    1.688667   32.186954    0.323018  147.120786   \n",
       "min    1.669775e+12    3.000000    1.000000    0.000000 -199.996000   \n",
       "25%    1.669775e+12    5.000000   28.500000    0.000000 -163.049000   \n",
       "50%    1.669775e+12    6.000000   56.000000    0.000000    1.984000   \n",
       "75%    1.669775e+12    7.000000   83.500000    0.000000  157.552000   \n",
       "max    1.669775e+12    8.000000  111.000000    1.000000  200.000000   \n",
       "\n",
       "            pos_y       pos_z  \n",
       "count  111.000000  111.000000  \n",
       "mean    11.068378   12.856928  \n",
       "std     82.927186  136.157272  \n",
       "min   -147.819000 -199.990000  \n",
       "25%    -57.417500 -104.652500  \n",
       "50%      0.437000    9.263000  \n",
       "75%     85.208000  142.308500  \n",
       "max    149.370000  199.822000  "
      ]
     },
     "execution_count": 181,
     "metadata": {},
     "output_type": "execute_result"
    }
   ],
   "source": [
    "ball_data = pd.read_csv(\"https://cos.drbrain.net/profile/tj/2022/11/30/ea69a115-fe53-4845-a5e3-e61f8201d032.txt\")\n",
    "ball_data.describe()"
   ]
  },
  {
   "cell_type": "code",
   "execution_count": 182,
   "metadata": {},
   "outputs": [
    {
     "data": {
      "text/html": [
       "<div>\n",
       "<style scoped>\n",
       "    .dataframe tbody tr th:only-of-type {\n",
       "        vertical-align: middle;\n",
       "    }\n",
       "\n",
       "    .dataframe tbody tr th {\n",
       "        vertical-align: top;\n",
       "    }\n",
       "\n",
       "    .dataframe thead th {\n",
       "        text-align: right;\n",
       "    }\n",
       "</style>\n",
       "<table border=\"1\" class=\"dataframe\">\n",
       "  <thead>\n",
       "    <tr style=\"text-align: right;\">\n",
       "      <th></th>\n",
       "      <th>timestamp</th>\n",
       "      <th>difficulty</th>\n",
       "      <th>pos_x</th>\n",
       "      <th>pos_y</th>\n",
       "      <th>pos_z</th>\n",
       "    </tr>\n",
       "  </thead>\n",
       "  <tbody>\n",
       "    <tr>\n",
       "      <th>count</th>\n",
       "      <td>1.834000e+03</td>\n",
       "      <td>1834.000000</td>\n",
       "      <td>1834.000000</td>\n",
       "      <td>1834.000000</td>\n",
       "      <td>1834.000000</td>\n",
       "    </tr>\n",
       "    <tr>\n",
       "      <th>mean</th>\n",
       "      <td>1.669775e+12</td>\n",
       "      <td>5.546347</td>\n",
       "      <td>-5.800286</td>\n",
       "      <td>2.773672</td>\n",
       "      <td>-3.906629</td>\n",
       "    </tr>\n",
       "    <tr>\n",
       "      <th>std</th>\n",
       "      <td>5.295760e+04</td>\n",
       "      <td>1.725670</td>\n",
       "      <td>7.293432</td>\n",
       "      <td>10.532332</td>\n",
       "      <td>5.471060</td>\n",
       "    </tr>\n",
       "    <tr>\n",
       "      <th>min</th>\n",
       "      <td>1.669775e+12</td>\n",
       "      <td>3.000000</td>\n",
       "      <td>-34.820000</td>\n",
       "      <td>-24.828000</td>\n",
       "      <td>-27.513000</td>\n",
       "    </tr>\n",
       "    <tr>\n",
       "      <th>25%</th>\n",
       "      <td>1.669775e+12</td>\n",
       "      <td>4.000000</td>\n",
       "      <td>-9.200250</td>\n",
       "      <td>-3.688750</td>\n",
       "      <td>-7.130750</td>\n",
       "    </tr>\n",
       "    <tr>\n",
       "      <th>50%</th>\n",
       "      <td>1.669775e+12</td>\n",
       "      <td>6.000000</td>\n",
       "      <td>-5.741000</td>\n",
       "      <td>2.454000</td>\n",
       "      <td>-3.265000</td>\n",
       "    </tr>\n",
       "    <tr>\n",
       "      <th>75%</th>\n",
       "      <td>1.669775e+12</td>\n",
       "      <td>7.000000</td>\n",
       "      <td>-2.563500</td>\n",
       "      <td>7.914250</td>\n",
       "      <td>0.123250</td>\n",
       "    </tr>\n",
       "    <tr>\n",
       "      <th>max</th>\n",
       "      <td>1.669775e+12</td>\n",
       "      <td>8.000000</td>\n",
       "      <td>18.848000</td>\n",
       "      <td>38.120000</td>\n",
       "      <td>10.563000</td>\n",
       "    </tr>\n",
       "  </tbody>\n",
       "</table>\n",
       "</div>"
      ],
      "text/plain": [
       "          timestamp   difficulty        pos_x        pos_y        pos_z\n",
       "count  1.834000e+03  1834.000000  1834.000000  1834.000000  1834.000000\n",
       "mean   1.669775e+12     5.546347    -5.800286     2.773672    -3.906629\n",
       "std    5.295760e+04     1.725670     7.293432    10.532332     5.471060\n",
       "min    1.669775e+12     3.000000   -34.820000   -24.828000   -27.513000\n",
       "25%    1.669775e+12     4.000000    -9.200250    -3.688750    -7.130750\n",
       "50%    1.669775e+12     6.000000    -5.741000     2.454000    -3.265000\n",
       "75%    1.669775e+12     7.000000    -2.563500     7.914250     0.123250\n",
       "max    1.669775e+12     8.000000    18.848000    38.120000    10.563000"
      ]
     },
     "execution_count": 182,
     "metadata": {},
     "output_type": "execute_result"
    }
   ],
   "source": [
    "head_data = pd.read_csv(\"https://cos.drbrain.net/profile/tj/2022/11/30/ab8ceef9-5192-4646-967a-9c01ab6e0429.txt\")\n",
    "head_data.describe()\n",
    "# head_data.loc[1669367200305]"
   ]
  },
  {
   "cell_type": "code",
   "execution_count": 176,
   "metadata": {},
   "outputs": [
    {
     "data": {
      "text/html": [
       "<div>\n",
       "<style scoped>\n",
       "    .dataframe tbody tr th:only-of-type {\n",
       "        vertical-align: middle;\n",
       "    }\n",
       "\n",
       "    .dataframe tbody tr th {\n",
       "        vertical-align: top;\n",
       "    }\n",
       "\n",
       "    .dataframe thead th {\n",
       "        text-align: right;\n",
       "    }\n",
       "</style>\n",
       "<table border=\"1\" class=\"dataframe\">\n",
       "  <thead>\n",
       "    <tr style=\"text-align: right;\">\n",
       "      <th></th>\n",
       "      <th>1</th>\n",
       "      <th>2</th>\n",
       "      <th>3</th>\n",
       "      <th>4</th>\n",
       "    </tr>\n",
       "  </thead>\n",
       "  <tbody>\n",
       "    <tr>\n",
       "      <th>count</th>\n",
       "      <td>47.000000</td>\n",
       "      <td>45.00000</td>\n",
       "      <td>0.0</td>\n",
       "      <td>0.0</td>\n",
       "    </tr>\n",
       "    <tr>\n",
       "      <th>sum</th>\n",
       "      <td>9.000000</td>\n",
       "      <td>9.00000</td>\n",
       "      <td>0.0</td>\n",
       "      <td>0.0</td>\n",
       "    </tr>\n",
       "    <tr>\n",
       "      <th>succeed</th>\n",
       "      <td>0.808511</td>\n",
       "      <td>0.80000</td>\n",
       "      <td>0.0</td>\n",
       "      <td>0.0</td>\n",
       "    </tr>\n",
       "    <tr>\n",
       "      <th>rate</th>\n",
       "      <td>0.510870</td>\n",
       "      <td>0.48913</td>\n",
       "      <td>0.0</td>\n",
       "      <td>0.0</td>\n",
       "    </tr>\n",
       "  </tbody>\n",
       "</table>\n",
       "</div>"
      ],
      "text/plain": [
       "                 1         2    3    4\n",
       "count    47.000000  45.00000  0.0  0.0\n",
       "sum       9.000000   9.00000  0.0  0.0\n",
       "succeed   0.808511   0.80000  0.0  0.0\n",
       "rate      0.510870   0.48913  0.0  0.0"
      ]
     },
     "execution_count": 176,
     "metadata": {},
     "output_type": "execute_result"
    }
   ],
   "source": [
    "def label_area(row):\n",
    "    if row['pos_x'] > 0 and row['pos_y'] > 0:\n",
    "        return 1\n",
    "    if row['pos_x'] < 0 and row['pos_y'] > 0:\n",
    "        return 2\n",
    "    if row['pos_x'] < 0 and row['pos_y'] < 0:\n",
    "        return 3\n",
    "    if row['pos_x'] > 0 and row['pos_y'] < 0:\n",
    "        return 4\n",
    "\n",
    "area = ball_data.apply(lambda row: label_area(row), axis=1)\n",
    "ball_data['area'] = area\n",
    "res_df = pd.DataFrame([ball_data.groupby('area')['status'].count(), ball_data.groupby('area')['status'].sum()], index=['count', 'sum'], columns=[1, 2, 3, 4])\n",
    "# if '3' not in res_df.columns:\n",
    "#     res_df['3'] = [0, 0]\n",
    "# if '4' not in res_df.columns:\n",
    "#     res_df['4'] = [0, 0]\n",
    "res_df.loc['succeed'] = 1 - res_df.loc['sum'] / res_df.loc['count']\n",
    "res_df.loc['rate'] = res_df.loc['count'] / res_df.loc['count'].sum()\n",
    "res_df.fillna(0)\n",
    "# res_df.loc['sum', 3].fillna(0)"
   ]
  },
  {
   "cell_type": "code",
   "execution_count": null,
   "metadata": {},
   "outputs": [],
   "source": [
    "arr = np.array([1,2,3],\n",
    "        [4,5,6],\n",
    "        [7,8,9],\n",
    "        [1,2,3],\n",
    "        [4,5,6])\n",
    "arr.shape()"
   ]
  }
 ],
 "metadata": {
  "kernelspec": {
   "display_name": "Python 3.8.8 ('base')",
   "language": "python",
   "name": "python3"
  },
  "language_info": {
   "codemirror_mode": {
    "name": "ipython",
    "version": 3
   },
   "file_extension": ".py",
   "mimetype": "text/x-python",
   "name": "python",
   "nbconvert_exporter": "python",
   "pygments_lexer": "ipython3",
   "version": "3.8.8 (default, Apr 13 2021, 15:08:03) [MSC v.1916 64 bit (AMD64)]"
  },
  "vscode": {
   "interpreter": {
    "hash": "b09ec625f77bf4fd762565a912b97636504ad6ec901eb2d0f4cf5a7de23e1ee5"
   }
  }
 },
 "nbformat": 4,
 "nbformat_minor": 0
}
