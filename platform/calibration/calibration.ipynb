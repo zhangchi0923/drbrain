{
 "cells": [
  {
   "cell_type": "code",
   "execution_count": 4,
   "metadata": {},
   "outputs": [],
   "source": [
    "import cv2\n",
    "\n",
    "# 打开视频文件\n",
    "# cap = cv2.VideoCapture('fail.mp4')\n",
    "cap = cv2.VideoCapture('success.mp4')\n",
    "\n",
    "# 检查视频是否成功打开\n",
    "if not cap.isOpened():\n",
    "    print('视频文件打开失败！')\n",
    "    exit()\n",
    "\n",
    "# 计算要截取的帧位置\n",
    "frame_rate = cap.get(cv2.CAP_PROP_FPS)\n",
    "target_time = 20  # 要截取的时间（秒）\n",
    "target_frame = int(frame_rate * target_time)  # 要截取的帧位置\n",
    "\n",
    "# 设置视频文件的当前帧位置\n",
    "cap.set(cv2.CAP_PROP_POS_FRAMES, target_frame)\n",
    "\n",
    "# 读取视频帧\n",
    "ret, frame = cap.read()\n",
    "\n",
    "# 检查是否成功读取视频帧\n",
    "if not ret:\n",
    "    print('无法读取视频帧！')\n",
    "    cap.release()\n",
    "    exit()\n",
    "\n",
    "# 获取图像的高度和宽度\n",
    "h, w = frame.shape[:2]\n",
    "\n",
    "# 指定中间部分的高度和宽度\n",
    "h_m = 150  # 中间部分的高度\n",
    "w_m = 150  # 中间部分的宽度\n",
    "\n",
    "# 计算中间部分的左上角和右下角坐标\n",
    "x1 = int((w - w_m) / 2)\n",
    "y1 = int((h - h_m) / 2)\n",
    "x2 = int((w + w_m) / 2)\n",
    "y2 = int((h + h_m) / 2)\n",
    "\n",
    "# 截取中间部分\n",
    "middle_part = frame[y1:y2, x1:x2]\n",
    "# 在窗口中显示视频帧\n",
    "cv2.imshow('视频帧', middle_part)\n",
    "# cv2.waitKey(0)\n",
    "\n",
    "# 保存视频帧为图片文件\n",
    "cv2.imwrite('success.jpg', middle_part)\n",
    "\n",
    "# 释放视频文件对象\n",
    "cap.release()\n",
    "\n",
    "# 关闭所有OpenCV窗口\n",
    "cv2.destroyAllWindows()\n"
   ]
  },
  {
   "cell_type": "code",
   "execution_count": 3,
   "metadata": {},
   "outputs": [
    {
     "name": "stdout",
     "output_type": "stream",
     "text": [
      "\n"
     ]
    }
   ],
   "source": [
    "import pytesseract\n",
    "from PIL import Image\n",
    "\n",
    "# print(pytesseract.image_to_string(Image.open('./frame.jpg'), lang='chi_sim'))\n",
    "print(pytesseract.image_to_string(Image.open('./success.jpg'), lang='eng'))"
   ]
  },
  {
   "cell_type": "code",
   "execution_count": 21,
   "metadata": {},
   "outputs": [
    {
     "name": "stdout",
     "output_type": "stream",
     "text": [
      "校准失败\n",
      "\n"
     ]
    }
   ],
   "source": [
    "print(pytesseract.image_to_string(Image.open('./frame.jpg'), lang='chi_sim'))"
   ]
  }
 ],
 "metadata": {
  "kernelspec": {
   "display_name": "base",
   "language": "python",
   "name": "python3"
  },
  "language_info": {
   "codemirror_mode": {
    "name": "ipython",
    "version": 3
   },
   "file_extension": ".py",
   "mimetype": "text/x-python",
   "name": "python",
   "nbconvert_exporter": "python",
   "pygments_lexer": "ipython3",
   "version": "3.8.8"
  },
  "orig_nbformat": 4,
  "vscode": {
   "interpreter": {
    "hash": "b09ec625f77bf4fd762565a912b97636504ad6ec901eb2d0f4cf5a7de23e1ee5"
   }
  }
 },
 "nbformat": 4,
 "nbformat_minor": 2
}
